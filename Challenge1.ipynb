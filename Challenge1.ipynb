{
 "cells": [
  {
   "cell_type": "code",
   "execution_count": 108,
   "id": "following-liquid",
   "metadata": {},
   "outputs": [],
   "source": [
    "import os\n",
    "from dotenv import load_dotenv\n",
    "load_dotenv()\n",
    "import requests\n",
    "import json"
   ]
  },
  {
   "cell_type": "code",
   "execution_count": 109,
   "id": "falling-mechanism",
   "metadata": {},
   "outputs": [],
   "source": [
    "api_key = os.getenv('token')"
   ]
  },
  {
   "cell_type": "code",
   "execution_count": 110,
   "id": "valuable-korea",
   "metadata": {},
   "outputs": [],
   "source": [
    "parameters = {\"Auhorization\" : f\"token {api_key}\"}"
   ]
  },
  {
   "cell_type": "code",
   "execution_count": 111,
   "id": "front-picture",
   "metadata": {},
   "outputs": [],
   "source": [
    "url = \"https://api.github.com/repos/ironhack-datalabs/datamad1020-rev/forks\""
   ]
  },
  {
   "cell_type": "code",
   "execution_count": 112,
   "id": "returning-honey",
   "metadata": {},
   "outputs": [],
   "source": [
    "def requestGithub(url):\n",
    "    token = os.getenv(\"token\")\n",
    "    if not token:\n",
    "        raise ValueError (\"Necesitas un token\")\n",
    "    print(f\"Haciendo request a {url}\")\n",
    "    \n",
    "    params = {\"Auhorization\" : f\"token {api_key}\"}\n",
    "    response = requests.get( url = url , params = params).json()\n",
    "    \n",
    "    return response"
   ]
  },
  {
   "cell_type": "code",
   "execution_count": 113,
   "id": "seventh-glasgow",
   "metadata": {},
   "outputs": [
    {
     "name": "stdout",
     "output_type": "stream",
     "text": [
      "Haciendo request a https://api.github.com/repos/ironhack-datalabs/datamad1020-rev/forks\n"
     ]
    }
   ],
   "source": [
    "response = requestGithub(url)"
   ]
  },
  {
   "cell_type": "code",
   "execution_count": 114,
   "id": "informative-policy",
   "metadata": {},
   "outputs": [],
   "source": [
    "response = requests.get( url = url, params = parameters).json()"
   ]
  },
  {
   "cell_type": "code",
   "execution_count": 115,
   "id": "initial-replacement",
   "metadata": {},
   "outputs": [
    {
     "data": {
      "text/plain": [
       "['https://api.github.com/repos/acamposla/datamad1020-rev/languages',\n",
       " 'https://api.github.com/repos/PaolaKarina/datamad1020-rev/languages',\n",
       " 'https://api.github.com/repos/VictorRodriguezIronhack/datamad1020-rev/languages',\n",
       " 'https://api.github.com/repos/sonia-quintanar/datamad1020-rev/languages',\n",
       " 'https://api.github.com/repos/jperezllorente/datamad1020-rev/languages',\n",
       " 'https://api.github.com/repos/AnaMA96/datamad1020-rev/languages',\n",
       " 'https://api.github.com/repos/breogann/datamad1020-rev/languages',\n",
       " 'https://api.github.com/repos/rafadedubra/datamad1020-rev/languages',\n",
       " 'https://api.github.com/repos/Nuria-Pe/datamad1020-rev/languages',\n",
       " 'https://api.github.com/repos/SergioCaler0/datamad1020-rev/languages',\n",
       " 'https://api.github.com/repos/LucianaLescano/datamad1020-rev/languages',\n",
       " 'https://api.github.com/repos/Mario-Sainz/datamad1020-rev/languages',\n",
       " 'https://api.github.com/repos/juanmarin00/datamad1020-rev/languages',\n",
       " 'https://api.github.com/repos/JoseManuel-G/datamad1020-rev/languages',\n",
       " 'https://api.github.com/repos/jesus-perez-366/datamad1020-rev/languages',\n",
       " 'https://api.github.com/repos/sgonzalainen/datamad1020-rev/languages',\n",
       " 'https://api.github.com/repos/Pptrv/datamad1020-rev/languages',\n",
       " 'https://api.github.com/repos/Marxess/datamad1020-rev/languages',\n",
       " 'https://api.github.com/repos/patri-carrasco/datamad1020-rev/languages',\n",
       " 'https://api.github.com/repos/BlueJotas/datamad1020-rev/languages',\n",
       " 'https://api.github.com/repos/jvazquezgalvezlp/datamad1020-rev/languages',\n",
       " 'https://api.github.com/repos/leticia-sobrino/datamad1020-rev/languages',\n",
       " 'https://api.github.com/repos/JaimeCalcedo/datamad1020-rev/languages']"
      ]
     },
     "execution_count": 115,
     "metadata": {},
     "output_type": "execute_result"
    }
   ],
   "source": [
    "elements = [elemento[\"languages_url\"] for elemento in response]\n",
    "elements"
   ]
  },
  {
   "cell_type": "code",
   "execution_count": 116,
   "id": "chemical-fever",
   "metadata": {},
   "outputs": [
    {
     "data": {
      "text/plain": [
       "list"
      ]
     },
     "execution_count": 116,
     "metadata": {},
     "output_type": "execute_result"
    }
   ],
   "source": [
    "type(response)"
   ]
  },
  {
   "cell_type": "code",
   "execution_count": 117,
   "id": "forward-hospital",
   "metadata": {},
   "outputs": [
    {
     "name": "stdout",
     "output_type": "stream",
     "text": [
      "['https://api.github.com/repos/acamposla/datamad1020-rev/languages']\n",
      "['https://api.github.com/repos/acamposla/datamad1020-rev/languages', 'https://api.github.com/repos/PaolaKarina/datamad1020-rev/languages']\n",
      "['https://api.github.com/repos/acamposla/datamad1020-rev/languages', 'https://api.github.com/repos/PaolaKarina/datamad1020-rev/languages', 'https://api.github.com/repos/VictorRodriguezIronhack/datamad1020-rev/languages']\n",
      "['https://api.github.com/repos/acamposla/datamad1020-rev/languages', 'https://api.github.com/repos/PaolaKarina/datamad1020-rev/languages', 'https://api.github.com/repos/VictorRodriguezIronhack/datamad1020-rev/languages', 'https://api.github.com/repos/sonia-quintanar/datamad1020-rev/languages']\n",
      "['https://api.github.com/repos/acamposla/datamad1020-rev/languages', 'https://api.github.com/repos/PaolaKarina/datamad1020-rev/languages', 'https://api.github.com/repos/VictorRodriguezIronhack/datamad1020-rev/languages', 'https://api.github.com/repos/sonia-quintanar/datamad1020-rev/languages', 'https://api.github.com/repos/jperezllorente/datamad1020-rev/languages']\n",
      "['https://api.github.com/repos/acamposla/datamad1020-rev/languages', 'https://api.github.com/repos/PaolaKarina/datamad1020-rev/languages', 'https://api.github.com/repos/VictorRodriguezIronhack/datamad1020-rev/languages', 'https://api.github.com/repos/sonia-quintanar/datamad1020-rev/languages', 'https://api.github.com/repos/jperezllorente/datamad1020-rev/languages', 'https://api.github.com/repos/AnaMA96/datamad1020-rev/languages']\n",
      "['https://api.github.com/repos/acamposla/datamad1020-rev/languages', 'https://api.github.com/repos/PaolaKarina/datamad1020-rev/languages', 'https://api.github.com/repos/VictorRodriguezIronhack/datamad1020-rev/languages', 'https://api.github.com/repos/sonia-quintanar/datamad1020-rev/languages', 'https://api.github.com/repos/jperezllorente/datamad1020-rev/languages', 'https://api.github.com/repos/AnaMA96/datamad1020-rev/languages', 'https://api.github.com/repos/breogann/datamad1020-rev/languages']\n",
      "['https://api.github.com/repos/acamposla/datamad1020-rev/languages', 'https://api.github.com/repos/PaolaKarina/datamad1020-rev/languages', 'https://api.github.com/repos/VictorRodriguezIronhack/datamad1020-rev/languages', 'https://api.github.com/repos/sonia-quintanar/datamad1020-rev/languages', 'https://api.github.com/repos/jperezllorente/datamad1020-rev/languages', 'https://api.github.com/repos/AnaMA96/datamad1020-rev/languages', 'https://api.github.com/repos/breogann/datamad1020-rev/languages', 'https://api.github.com/repos/rafadedubra/datamad1020-rev/languages']\n",
      "['https://api.github.com/repos/acamposla/datamad1020-rev/languages', 'https://api.github.com/repos/PaolaKarina/datamad1020-rev/languages', 'https://api.github.com/repos/VictorRodriguezIronhack/datamad1020-rev/languages', 'https://api.github.com/repos/sonia-quintanar/datamad1020-rev/languages', 'https://api.github.com/repos/jperezllorente/datamad1020-rev/languages', 'https://api.github.com/repos/AnaMA96/datamad1020-rev/languages', 'https://api.github.com/repos/breogann/datamad1020-rev/languages', 'https://api.github.com/repos/rafadedubra/datamad1020-rev/languages', 'https://api.github.com/repos/Nuria-Pe/datamad1020-rev/languages']\n",
      "['https://api.github.com/repos/acamposla/datamad1020-rev/languages', 'https://api.github.com/repos/PaolaKarina/datamad1020-rev/languages', 'https://api.github.com/repos/VictorRodriguezIronhack/datamad1020-rev/languages', 'https://api.github.com/repos/sonia-quintanar/datamad1020-rev/languages', 'https://api.github.com/repos/jperezllorente/datamad1020-rev/languages', 'https://api.github.com/repos/AnaMA96/datamad1020-rev/languages', 'https://api.github.com/repos/breogann/datamad1020-rev/languages', 'https://api.github.com/repos/rafadedubra/datamad1020-rev/languages', 'https://api.github.com/repos/Nuria-Pe/datamad1020-rev/languages', 'https://api.github.com/repos/SergioCaler0/datamad1020-rev/languages']\n",
      "['https://api.github.com/repos/acamposla/datamad1020-rev/languages', 'https://api.github.com/repos/PaolaKarina/datamad1020-rev/languages', 'https://api.github.com/repos/VictorRodriguezIronhack/datamad1020-rev/languages', 'https://api.github.com/repos/sonia-quintanar/datamad1020-rev/languages', 'https://api.github.com/repos/jperezllorente/datamad1020-rev/languages', 'https://api.github.com/repos/AnaMA96/datamad1020-rev/languages', 'https://api.github.com/repos/breogann/datamad1020-rev/languages', 'https://api.github.com/repos/rafadedubra/datamad1020-rev/languages', 'https://api.github.com/repos/Nuria-Pe/datamad1020-rev/languages', 'https://api.github.com/repos/SergioCaler0/datamad1020-rev/languages', 'https://api.github.com/repos/LucianaLescano/datamad1020-rev/languages']\n",
      "['https://api.github.com/repos/acamposla/datamad1020-rev/languages', 'https://api.github.com/repos/PaolaKarina/datamad1020-rev/languages', 'https://api.github.com/repos/VictorRodriguezIronhack/datamad1020-rev/languages', 'https://api.github.com/repos/sonia-quintanar/datamad1020-rev/languages', 'https://api.github.com/repos/jperezllorente/datamad1020-rev/languages', 'https://api.github.com/repos/AnaMA96/datamad1020-rev/languages', 'https://api.github.com/repos/breogann/datamad1020-rev/languages', 'https://api.github.com/repos/rafadedubra/datamad1020-rev/languages', 'https://api.github.com/repos/Nuria-Pe/datamad1020-rev/languages', 'https://api.github.com/repos/SergioCaler0/datamad1020-rev/languages', 'https://api.github.com/repos/LucianaLescano/datamad1020-rev/languages', 'https://api.github.com/repos/Mario-Sainz/datamad1020-rev/languages']\n",
      "['https://api.github.com/repos/acamposla/datamad1020-rev/languages', 'https://api.github.com/repos/PaolaKarina/datamad1020-rev/languages', 'https://api.github.com/repos/VictorRodriguezIronhack/datamad1020-rev/languages', 'https://api.github.com/repos/sonia-quintanar/datamad1020-rev/languages', 'https://api.github.com/repos/jperezllorente/datamad1020-rev/languages', 'https://api.github.com/repos/AnaMA96/datamad1020-rev/languages', 'https://api.github.com/repos/breogann/datamad1020-rev/languages', 'https://api.github.com/repos/rafadedubra/datamad1020-rev/languages', 'https://api.github.com/repos/Nuria-Pe/datamad1020-rev/languages', 'https://api.github.com/repos/SergioCaler0/datamad1020-rev/languages', 'https://api.github.com/repos/LucianaLescano/datamad1020-rev/languages', 'https://api.github.com/repos/Mario-Sainz/datamad1020-rev/languages', 'https://api.github.com/repos/juanmarin00/datamad1020-rev/languages']\n",
      "['https://api.github.com/repos/acamposla/datamad1020-rev/languages', 'https://api.github.com/repos/PaolaKarina/datamad1020-rev/languages', 'https://api.github.com/repos/VictorRodriguezIronhack/datamad1020-rev/languages', 'https://api.github.com/repos/sonia-quintanar/datamad1020-rev/languages', 'https://api.github.com/repos/jperezllorente/datamad1020-rev/languages', 'https://api.github.com/repos/AnaMA96/datamad1020-rev/languages', 'https://api.github.com/repos/breogann/datamad1020-rev/languages', 'https://api.github.com/repos/rafadedubra/datamad1020-rev/languages', 'https://api.github.com/repos/Nuria-Pe/datamad1020-rev/languages', 'https://api.github.com/repos/SergioCaler0/datamad1020-rev/languages', 'https://api.github.com/repos/LucianaLescano/datamad1020-rev/languages', 'https://api.github.com/repos/Mario-Sainz/datamad1020-rev/languages', 'https://api.github.com/repos/juanmarin00/datamad1020-rev/languages', 'https://api.github.com/repos/JoseManuel-G/datamad1020-rev/languages']\n",
      "['https://api.github.com/repos/acamposla/datamad1020-rev/languages', 'https://api.github.com/repos/PaolaKarina/datamad1020-rev/languages', 'https://api.github.com/repos/VictorRodriguezIronhack/datamad1020-rev/languages', 'https://api.github.com/repos/sonia-quintanar/datamad1020-rev/languages', 'https://api.github.com/repos/jperezllorente/datamad1020-rev/languages', 'https://api.github.com/repos/AnaMA96/datamad1020-rev/languages', 'https://api.github.com/repos/breogann/datamad1020-rev/languages', 'https://api.github.com/repos/rafadedubra/datamad1020-rev/languages', 'https://api.github.com/repos/Nuria-Pe/datamad1020-rev/languages', 'https://api.github.com/repos/SergioCaler0/datamad1020-rev/languages', 'https://api.github.com/repos/LucianaLescano/datamad1020-rev/languages', 'https://api.github.com/repos/Mario-Sainz/datamad1020-rev/languages', 'https://api.github.com/repos/juanmarin00/datamad1020-rev/languages', 'https://api.github.com/repos/JoseManuel-G/datamad1020-rev/languages', 'https://api.github.com/repos/jesus-perez-366/datamad1020-rev/languages']\n",
      "['https://api.github.com/repos/acamposla/datamad1020-rev/languages', 'https://api.github.com/repos/PaolaKarina/datamad1020-rev/languages', 'https://api.github.com/repos/VictorRodriguezIronhack/datamad1020-rev/languages', 'https://api.github.com/repos/sonia-quintanar/datamad1020-rev/languages', 'https://api.github.com/repos/jperezllorente/datamad1020-rev/languages', 'https://api.github.com/repos/AnaMA96/datamad1020-rev/languages', 'https://api.github.com/repos/breogann/datamad1020-rev/languages', 'https://api.github.com/repos/rafadedubra/datamad1020-rev/languages', 'https://api.github.com/repos/Nuria-Pe/datamad1020-rev/languages', 'https://api.github.com/repos/SergioCaler0/datamad1020-rev/languages', 'https://api.github.com/repos/LucianaLescano/datamad1020-rev/languages', 'https://api.github.com/repos/Mario-Sainz/datamad1020-rev/languages', 'https://api.github.com/repos/juanmarin00/datamad1020-rev/languages', 'https://api.github.com/repos/JoseManuel-G/datamad1020-rev/languages', 'https://api.github.com/repos/jesus-perez-366/datamad1020-rev/languages', 'https://api.github.com/repos/sgonzalainen/datamad1020-rev/languages']\n",
      "['https://api.github.com/repos/acamposla/datamad1020-rev/languages', 'https://api.github.com/repos/PaolaKarina/datamad1020-rev/languages', 'https://api.github.com/repos/VictorRodriguezIronhack/datamad1020-rev/languages', 'https://api.github.com/repos/sonia-quintanar/datamad1020-rev/languages', 'https://api.github.com/repos/jperezllorente/datamad1020-rev/languages', 'https://api.github.com/repos/AnaMA96/datamad1020-rev/languages', 'https://api.github.com/repos/breogann/datamad1020-rev/languages', 'https://api.github.com/repos/rafadedubra/datamad1020-rev/languages', 'https://api.github.com/repos/Nuria-Pe/datamad1020-rev/languages', 'https://api.github.com/repos/SergioCaler0/datamad1020-rev/languages', 'https://api.github.com/repos/LucianaLescano/datamad1020-rev/languages', 'https://api.github.com/repos/Mario-Sainz/datamad1020-rev/languages', 'https://api.github.com/repos/juanmarin00/datamad1020-rev/languages', 'https://api.github.com/repos/JoseManuel-G/datamad1020-rev/languages', 'https://api.github.com/repos/jesus-perez-366/datamad1020-rev/languages', 'https://api.github.com/repos/sgonzalainen/datamad1020-rev/languages', 'https://api.github.com/repos/Pptrv/datamad1020-rev/languages']\n",
      "['https://api.github.com/repos/acamposla/datamad1020-rev/languages', 'https://api.github.com/repos/PaolaKarina/datamad1020-rev/languages', 'https://api.github.com/repos/VictorRodriguezIronhack/datamad1020-rev/languages', 'https://api.github.com/repos/sonia-quintanar/datamad1020-rev/languages', 'https://api.github.com/repos/jperezllorente/datamad1020-rev/languages', 'https://api.github.com/repos/AnaMA96/datamad1020-rev/languages', 'https://api.github.com/repos/breogann/datamad1020-rev/languages', 'https://api.github.com/repos/rafadedubra/datamad1020-rev/languages', 'https://api.github.com/repos/Nuria-Pe/datamad1020-rev/languages', 'https://api.github.com/repos/SergioCaler0/datamad1020-rev/languages', 'https://api.github.com/repos/LucianaLescano/datamad1020-rev/languages', 'https://api.github.com/repos/Mario-Sainz/datamad1020-rev/languages', 'https://api.github.com/repos/juanmarin00/datamad1020-rev/languages', 'https://api.github.com/repos/JoseManuel-G/datamad1020-rev/languages', 'https://api.github.com/repos/jesus-perez-366/datamad1020-rev/languages', 'https://api.github.com/repos/sgonzalainen/datamad1020-rev/languages', 'https://api.github.com/repos/Pptrv/datamad1020-rev/languages', 'https://api.github.com/repos/Marxess/datamad1020-rev/languages']\n",
      "['https://api.github.com/repos/acamposla/datamad1020-rev/languages', 'https://api.github.com/repos/PaolaKarina/datamad1020-rev/languages', 'https://api.github.com/repos/VictorRodriguezIronhack/datamad1020-rev/languages', 'https://api.github.com/repos/sonia-quintanar/datamad1020-rev/languages', 'https://api.github.com/repos/jperezllorente/datamad1020-rev/languages', 'https://api.github.com/repos/AnaMA96/datamad1020-rev/languages', 'https://api.github.com/repos/breogann/datamad1020-rev/languages', 'https://api.github.com/repos/rafadedubra/datamad1020-rev/languages', 'https://api.github.com/repos/Nuria-Pe/datamad1020-rev/languages', 'https://api.github.com/repos/SergioCaler0/datamad1020-rev/languages', 'https://api.github.com/repos/LucianaLescano/datamad1020-rev/languages', 'https://api.github.com/repos/Mario-Sainz/datamad1020-rev/languages', 'https://api.github.com/repos/juanmarin00/datamad1020-rev/languages', 'https://api.github.com/repos/JoseManuel-G/datamad1020-rev/languages', 'https://api.github.com/repos/jesus-perez-366/datamad1020-rev/languages', 'https://api.github.com/repos/sgonzalainen/datamad1020-rev/languages', 'https://api.github.com/repos/Pptrv/datamad1020-rev/languages', 'https://api.github.com/repos/Marxess/datamad1020-rev/languages', 'https://api.github.com/repos/patri-carrasco/datamad1020-rev/languages']\n",
      "['https://api.github.com/repos/acamposla/datamad1020-rev/languages', 'https://api.github.com/repos/PaolaKarina/datamad1020-rev/languages', 'https://api.github.com/repos/VictorRodriguezIronhack/datamad1020-rev/languages', 'https://api.github.com/repos/sonia-quintanar/datamad1020-rev/languages', 'https://api.github.com/repos/jperezllorente/datamad1020-rev/languages', 'https://api.github.com/repos/AnaMA96/datamad1020-rev/languages', 'https://api.github.com/repos/breogann/datamad1020-rev/languages', 'https://api.github.com/repos/rafadedubra/datamad1020-rev/languages', 'https://api.github.com/repos/Nuria-Pe/datamad1020-rev/languages', 'https://api.github.com/repos/SergioCaler0/datamad1020-rev/languages', 'https://api.github.com/repos/LucianaLescano/datamad1020-rev/languages', 'https://api.github.com/repos/Mario-Sainz/datamad1020-rev/languages', 'https://api.github.com/repos/juanmarin00/datamad1020-rev/languages', 'https://api.github.com/repos/JoseManuel-G/datamad1020-rev/languages', 'https://api.github.com/repos/jesus-perez-366/datamad1020-rev/languages', 'https://api.github.com/repos/sgonzalainen/datamad1020-rev/languages', 'https://api.github.com/repos/Pptrv/datamad1020-rev/languages', 'https://api.github.com/repos/Marxess/datamad1020-rev/languages', 'https://api.github.com/repos/patri-carrasco/datamad1020-rev/languages', 'https://api.github.com/repos/BlueJotas/datamad1020-rev/languages']\n",
      "['https://api.github.com/repos/acamposla/datamad1020-rev/languages', 'https://api.github.com/repos/PaolaKarina/datamad1020-rev/languages', 'https://api.github.com/repos/VictorRodriguezIronhack/datamad1020-rev/languages', 'https://api.github.com/repos/sonia-quintanar/datamad1020-rev/languages', 'https://api.github.com/repos/jperezllorente/datamad1020-rev/languages', 'https://api.github.com/repos/AnaMA96/datamad1020-rev/languages', 'https://api.github.com/repos/breogann/datamad1020-rev/languages', 'https://api.github.com/repos/rafadedubra/datamad1020-rev/languages', 'https://api.github.com/repos/Nuria-Pe/datamad1020-rev/languages', 'https://api.github.com/repos/SergioCaler0/datamad1020-rev/languages', 'https://api.github.com/repos/LucianaLescano/datamad1020-rev/languages', 'https://api.github.com/repos/Mario-Sainz/datamad1020-rev/languages', 'https://api.github.com/repos/juanmarin00/datamad1020-rev/languages', 'https://api.github.com/repos/JoseManuel-G/datamad1020-rev/languages', 'https://api.github.com/repos/jesus-perez-366/datamad1020-rev/languages', 'https://api.github.com/repos/sgonzalainen/datamad1020-rev/languages', 'https://api.github.com/repos/Pptrv/datamad1020-rev/languages', 'https://api.github.com/repos/Marxess/datamad1020-rev/languages', 'https://api.github.com/repos/patri-carrasco/datamad1020-rev/languages', 'https://api.github.com/repos/BlueJotas/datamad1020-rev/languages', 'https://api.github.com/repos/jvazquezgalvezlp/datamad1020-rev/languages']\n",
      "['https://api.github.com/repos/acamposla/datamad1020-rev/languages', 'https://api.github.com/repos/PaolaKarina/datamad1020-rev/languages', 'https://api.github.com/repos/VictorRodriguezIronhack/datamad1020-rev/languages', 'https://api.github.com/repos/sonia-quintanar/datamad1020-rev/languages', 'https://api.github.com/repos/jperezllorente/datamad1020-rev/languages', 'https://api.github.com/repos/AnaMA96/datamad1020-rev/languages', 'https://api.github.com/repos/breogann/datamad1020-rev/languages', 'https://api.github.com/repos/rafadedubra/datamad1020-rev/languages', 'https://api.github.com/repos/Nuria-Pe/datamad1020-rev/languages', 'https://api.github.com/repos/SergioCaler0/datamad1020-rev/languages', 'https://api.github.com/repos/LucianaLescano/datamad1020-rev/languages', 'https://api.github.com/repos/Mario-Sainz/datamad1020-rev/languages', 'https://api.github.com/repos/juanmarin00/datamad1020-rev/languages', 'https://api.github.com/repos/JoseManuel-G/datamad1020-rev/languages', 'https://api.github.com/repos/jesus-perez-366/datamad1020-rev/languages', 'https://api.github.com/repos/sgonzalainen/datamad1020-rev/languages', 'https://api.github.com/repos/Pptrv/datamad1020-rev/languages', 'https://api.github.com/repos/Marxess/datamad1020-rev/languages', 'https://api.github.com/repos/patri-carrasco/datamad1020-rev/languages', 'https://api.github.com/repos/BlueJotas/datamad1020-rev/languages', 'https://api.github.com/repos/jvazquezgalvezlp/datamad1020-rev/languages', 'https://api.github.com/repos/leticia-sobrino/datamad1020-rev/languages']\n",
      "['https://api.github.com/repos/acamposla/datamad1020-rev/languages', 'https://api.github.com/repos/PaolaKarina/datamad1020-rev/languages', 'https://api.github.com/repos/VictorRodriguezIronhack/datamad1020-rev/languages', 'https://api.github.com/repos/sonia-quintanar/datamad1020-rev/languages', 'https://api.github.com/repos/jperezllorente/datamad1020-rev/languages', 'https://api.github.com/repos/AnaMA96/datamad1020-rev/languages', 'https://api.github.com/repos/breogann/datamad1020-rev/languages', 'https://api.github.com/repos/rafadedubra/datamad1020-rev/languages', 'https://api.github.com/repos/Nuria-Pe/datamad1020-rev/languages', 'https://api.github.com/repos/SergioCaler0/datamad1020-rev/languages', 'https://api.github.com/repos/LucianaLescano/datamad1020-rev/languages', 'https://api.github.com/repos/Mario-Sainz/datamad1020-rev/languages', 'https://api.github.com/repos/juanmarin00/datamad1020-rev/languages', 'https://api.github.com/repos/JoseManuel-G/datamad1020-rev/languages', 'https://api.github.com/repos/jesus-perez-366/datamad1020-rev/languages', 'https://api.github.com/repos/sgonzalainen/datamad1020-rev/languages', 'https://api.github.com/repos/Pptrv/datamad1020-rev/languages', 'https://api.github.com/repos/Marxess/datamad1020-rev/languages', 'https://api.github.com/repos/patri-carrasco/datamad1020-rev/languages', 'https://api.github.com/repos/BlueJotas/datamad1020-rev/languages', 'https://api.github.com/repos/jvazquezgalvezlp/datamad1020-rev/languages', 'https://api.github.com/repos/leticia-sobrino/datamad1020-rev/languages', 'https://api.github.com/repos/JaimeCalcedo/datamad1020-rev/languages']\n"
     ]
    }
   ],
   "source": [
    "languages = []\n",
    "for i in response:\n",
    "    languages.append(i['languages_url'])\n",
    "    print(languages)"
   ]
  },
  {
   "cell_type": "code",
   "execution_count": 118,
   "id": "efficient-budget",
   "metadata": {},
   "outputs": [
    {
     "name": "stdout",
     "output_type": "stream",
     "text": [
      "['Jupyter Notebook', 'Jupyter Notebook', 'Jupyter Notebook', 'Jupyter Notebook', 'Jupyter Notebook', 'Jupyter Notebook', 'Jupyter Notebook', 'Jupyter Notebook', 'Jupyter Notebook', 'Jupyter Notebook', 'Jupyter Notebook', 'Jupyter Notebook', 'Jupyter Notebook', 'Jupyter Notebook', 'Jupyter Notebook', 'Jupyter Notebook', 'Jupyter Notebook', 'Jupyter Notebook', 'Jupyter Notebook', 'Jupyter Notebook', 'Jupyter Notebook', 'Jupyter Notebook', 'Jupyter Notebook']\n"
     ]
    }
   ],
   "source": [
    "final = []\n",
    "for l in languages:\n",
    "    final.append(i['language'])\n",
    "    \n",
    "print(final)"
   ]
  },
  {
   "cell_type": "code",
   "execution_count": 119,
   "id": "isolated-corps",
   "metadata": {},
   "outputs": [
    {
     "data": {
      "text/plain": [
       "{'Jupyter Notebook'}"
      ]
     },
     "execution_count": 119,
     "metadata": {},
     "output_type": "execute_result"
    }
   ],
   "source": [
    "set(final)"
   ]
  },
  {
   "cell_type": "code",
   "execution_count": 125,
   "id": "accessory-excitement",
   "metadata": {},
   "outputs": [],
   "source": [
    "l_url = 'https://api.github.com/repos/ironhack-datalabs/datamad1020-rev/languages'"
   ]
  },
  {
   "cell_type": "code",
   "execution_count": 126,
   "id": "extraordinary-riverside",
   "metadata": {},
   "outputs": [],
   "source": [
    "def requestGithub(url):\n",
    "    token = os.getenv(\"token\")\n",
    "    if not token:\n",
    "        raise ValueError (\"Necesitas un token\")\n",
    "    print(f\"Haciendo request a {l_url}\")\n",
    "    \n",
    "    params = {\"Auhorization\" : f\"token {api_key}\"}\n",
    "    new_resp = requests.get( url = l_url , params = params).json()\n",
    "    \n",
    "    return new_resp"
   ]
  },
  {
   "cell_type": "code",
   "execution_count": 127,
   "id": "alike-ratio",
   "metadata": {},
   "outputs": [
    {
     "name": "stdout",
     "output_type": "stream",
     "text": [
      "Haciendo request a https://api.github.com/repos/ironhack-datalabs/datamad1020-rev/languages\n",
      "{'Jupyter Notebook': 767922, 'HTML': 498316, 'Python': 38591}\n"
     ]
    }
   ],
   "source": [
    "lang = requestGithub(l_url)\n",
    "print(lang)"
   ]
  },
  {
   "cell_type": "code",
   "execution_count": 130,
   "id": "afraid-titanium",
   "metadata": {},
   "outputs": [
    {
     "data": {
      "text/plain": [
       "['Jupyter Notebook', 'HTML', 'Python']"
      ]
     },
     "execution_count": 130,
     "metadata": {},
     "output_type": "execute_result"
    }
   ],
   "source": [
    "list(lang.keys())"
   ]
  },
  {
   "cell_type": "code",
   "execution_count": null,
   "id": "athletic-prompt",
   "metadata": {},
   "outputs": [],
   "source": []
  }
 ],
 "metadata": {
  "kernelspec": {
   "display_name": "Python 3",
   "language": "python",
   "name": "python3"
  },
  "language_info": {
   "codemirror_mode": {
    "name": "ipython",
    "version": 3
   },
   "file_extension": ".py",
   "mimetype": "text/x-python",
   "name": "python",
   "nbconvert_exporter": "python",
   "pygments_lexer": "ipython3",
   "version": "3.8.2"
  }
 },
 "nbformat": 4,
 "nbformat_minor": 5
}
