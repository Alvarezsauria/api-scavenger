{
 "cells": [
  {
   "cell_type": "code",
   "execution_count": 1,
   "id": "figured-mentor",
   "metadata": {},
   "outputs": [],
   "source": [
    "import os\n",
    "from dotenv import load_dotenv\n",
    "load_dotenv()\n",
    "import requests\n",
    "import json"
   ]
  },
  {
   "cell_type": "code",
   "execution_count": 6,
   "id": "royal-purple",
   "metadata": {},
   "outputs": [],
   "source": [
    "api_key = os.getenv('token')\n",
    "parameters = {\"Auhorization\" : f\"token {api_key}\"}\n",
    "url = \"https://api.github.com/repos/ironhack-datalabs/datamad1020-rev/commits\""
   ]
  },
  {
   "cell_type": "code",
   "execution_count": 7,
   "id": "framed-rates",
   "metadata": {},
   "outputs": [],
   "source": [
    "def requestGithub(url):\n",
    "    token = os.getenv(\"token\")\n",
    "    if not token:\n",
    "        raise ValueError (\"Necesitas un token\")\n",
    "    print(f\"Haciendo request a {url}\")\n",
    "    \n",
    "    params = {\"Auhorization\" : f\"token {api_key}\"}\n",
    "    response = requests.get( url = url , params = params).json()\n",
    "    \n",
    "    return response"
   ]
  },
  {
   "cell_type": "code",
   "execution_count": 8,
   "id": "ethical-institution",
   "metadata": {},
   "outputs": [],
   "source": [
    "response = requests.get( url = url, params = parameters).json()"
   ]
  },
  {
   "cell_type": "code",
   "execution_count": 12,
   "id": "celtic-administration",
   "metadata": {},
   "outputs": [],
   "source": [
    "commits = []\n",
    "for r in response:\n",
    "    commits.append(r['commit'])\n",
    "    "
   ]
  },
  {
   "cell_type": "code",
   "execution_count": 15,
   "id": "charming-array",
   "metadata": {},
   "outputs": [
    {
     "name": "stdout",
     "output_type": "stream",
     "text": [
      "Se hicieron 30 commits de este repo\n"
     ]
    }
   ],
   "source": [
    "print('Se hicieron', len(commits), 'commits de este repo')"
   ]
  },
  {
   "cell_type": "code",
   "execution_count": null,
   "id": "supreme-plymouth",
   "metadata": {},
   "outputs": [],
   "source": []
  }
 ],
 "metadata": {
  "kernelspec": {
   "display_name": "Python 3",
   "language": "python",
   "name": "python3"
  },
  "language_info": {
   "codemirror_mode": {
    "name": "ipython",
    "version": 3
   },
   "file_extension": ".py",
   "mimetype": "text/x-python",
   "name": "python",
   "nbconvert_exporter": "python",
   "pygments_lexer": "ipython3",
   "version": "3.8.2"
  }
 },
 "nbformat": 4,
 "nbformat_minor": 5
}
